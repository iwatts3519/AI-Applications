{
 "cells": [
  {
   "cell_type": "markdown",
   "id": "simple-channels",
   "metadata": {},
   "source": [
    "# Question 1"
   ]
  },
  {
   "cell_type": "code",
   "execution_count": 1,
   "id": "significant-bahamas",
   "metadata": {},
   "outputs": [],
   "source": [
    "import math\n",
    "def circleArea(radius):\n",
    "    return math.pi * (radius ** 2)\n"
   ]
  },
  {
   "cell_type": "code",
   "execution_count": 2,
   "id": "eastern-story",
   "metadata": {},
   "outputs": [
    {
     "name": "stdout",
     "output_type": "stream",
     "text": [
      "78.53981633974483\n"
     ]
    }
   ],
   "source": [
    "print(circleArea(5))"
   ]
  },
  {
   "cell_type": "markdown",
   "id": "searching-genre",
   "metadata": {},
   "source": [
    "# Question 2"
   ]
  },
  {
   "cell_type": "code",
   "execution_count": 3,
   "id": "asian-slovak",
   "metadata": {},
   "outputs": [],
   "source": [
    "def multiples(number):\n",
    "    for i in range(1, 6):\n",
    "        print(f\"{i} times {number} is {i*number}\")\n",
    "        "
   ]
  },
  {
   "cell_type": "code",
   "execution_count": 4,
   "id": "personal-battle",
   "metadata": {},
   "outputs": [
    {
     "name": "stdout",
     "output_type": "stream",
     "text": [
      "1 times 2 is 2\n",
      "2 times 2 is 4\n",
      "3 times 2 is 6\n",
      "4 times 2 is 8\n",
      "5 times 2 is 10\n"
     ]
    }
   ],
   "source": [
    "multiples(2)"
   ]
  },
  {
   "cell_type": "markdown",
   "id": "royal-grove",
   "metadata": {},
   "source": [
    "# Question 3"
   ]
  },
  {
   "cell_type": "code",
   "execution_count": 5,
   "id": "approximate-growth",
   "metadata": {},
   "outputs": [],
   "source": [
    "def logIn():\n",
    "    userName = input(\"What is your User Name\")\n",
    "    password = input(\"What is your Password\")\n",
    "    if userName in password:\n",
    "        print(\"Invalid\")\n",
    "    else:\n",
    "        print(\"Valid\")"
   ]
  },
  {
   "cell_type": "code",
   "execution_count": 9,
   "id": "multiple-vegetable",
   "metadata": {},
   "outputs": [
    {
     "name": "stdin",
     "output_type": "stream",
     "text": [
      "What is your User Name test\n",
      "What is your Password watts\n"
     ]
    },
    {
     "name": "stdout",
     "output_type": "stream",
     "text": [
      "Valid\n"
     ]
    }
   ],
   "source": [
    "logIn()"
   ]
  },
  {
   "cell_type": "code",
   "execution_count": 11,
   "id": "intermediate-quantity",
   "metadata": {},
   "outputs": [
    {
     "name": "stdin",
     "output_type": "stream",
     "text": [
      "What is your User Name e\n",
      "What is your Password e\n"
     ]
    },
    {
     "name": "stdout",
     "output_type": "stream",
     "text": [
      "Invalid\n"
     ]
    }
   ],
   "source": [
    "logIn()"
   ]
  },
  {
   "cell_type": "markdown",
   "id": "liable-jacket",
   "metadata": {},
   "source": [
    "# Question 4"
   ]
  },
  {
   "cell_type": "code",
   "execution_count": 10,
   "id": "interracial-saver",
   "metadata": {},
   "outputs": [],
   "source": [
    "def findDigits(number, digits=1):\n",
    "    if number//10 ==0:\n",
    "        return digits\n",
    "    else:\n",
    "        number = number // 10\n",
    "        digits += 1\n",
    "        return findDigits(number, digits)"
   ]
  },
  {
   "cell_type": "code",
   "execution_count": 11,
   "id": "photographic-tactics",
   "metadata": {},
   "outputs": [
    {
     "name": "stdout",
     "output_type": "stream",
     "text": [
      "3\n"
     ]
    }
   ],
   "source": [
    "print(findDigits(234))"
   ]
  },
  {
   "cell_type": "code",
   "execution_count": 12,
   "id": "manual-calibration",
   "metadata": {},
   "outputs": [
    {
     "name": "stdout",
     "output_type": "stream",
     "text": [
      "5\n"
     ]
    }
   ],
   "source": [
    "print(findDigits(12345))"
   ]
  },
  {
   "cell_type": "code",
   "execution_count": 13,
   "id": "ultimate-directory",
   "metadata": {},
   "outputs": [
    {
     "name": "stdout",
     "output_type": "stream",
     "text": [
      "1\n"
     ]
    }
   ],
   "source": [
    "print(findDigits(7))"
   ]
  },
  {
   "cell_type": "code",
   "execution_count": 14,
   "id": "naughty-republican",
   "metadata": {},
   "outputs": [
    {
     "name": "stdout",
     "output_type": "stream",
     "text": [
      "<function findDigits at 0x000001FC67195040>\n"
     ]
    }
   ],
   "source": [
    "print(findDigits)"
   ]
  },
  {
   "cell_type": "markdown",
   "id": "herbal-sending",
   "metadata": {},
   "source": [
    "# Question 5"
   ]
  },
  {
   "cell_type": "code",
   "execution_count": 15,
   "id": "joined-prayer",
   "metadata": {},
   "outputs": [],
   "source": [
    "import pandas as pd\n",
    "import sys\n",
    "age = pd.Series([10, 11, 12])\n",
    "name = pd.Series([\"Sujeet\", \"Sameer\", \"Sumit\"])"
   ]
  },
  {
   "cell_type": "code",
   "execution_count": 16,
   "id": "approximate-parish",
   "metadata": {},
   "outputs": [],
   "source": [
    "df = pd.DataFrame({\"Age\": age, \"Name\": name})"
   ]
  },
  {
   "cell_type": "code",
   "execution_count": 17,
   "id": "eleven-skirt",
   "metadata": {},
   "outputs": [
    {
     "name": "stdout",
     "output_type": "stream",
     "text": [
      " Age   Name\n",
      "  10 Sujeet\n",
      "  11 Sameer\n",
      "  12  Sumit\n"
     ]
    }
   ],
   "source": [
    "print(df.to_string(index=False))"
   ]
  },
  {
   "cell_type": "code",
   "execution_count": 18,
   "id": "worse-question",
   "metadata": {},
   "outputs": [
    {
     "name": "stdout",
     "output_type": "stream",
     "text": [
      "10,Sujeet\n",
      "11,Sameer\n",
      "12,Sumit\n",
      "None\n"
     ]
    }
   ],
   "source": [
    "print(df.to_csv(sys.stdout,header=False,index=False))"
   ]
  },
  {
   "cell_type": "code",
   "execution_count": 19,
   "id": "valid-westminster",
   "metadata": {},
   "outputs": [
    {
     "data": {
      "text/html": [
       "<div>\n",
       "<style scoped>\n",
       "    .dataframe tbody tr th:only-of-type {\n",
       "        vertical-align: middle;\n",
       "    }\n",
       "\n",
       "    .dataframe tbody tr th {\n",
       "        vertical-align: top;\n",
       "    }\n",
       "\n",
       "    .dataframe thead th {\n",
       "        text-align: right;\n",
       "    }\n",
       "</style>\n",
       "<table border=\"1\" class=\"dataframe\">\n",
       "  <thead>\n",
       "    <tr style=\"text-align: right;\">\n",
       "      <th></th>\n",
       "      <th>Age</th>\n",
       "      <th>Name</th>\n",
       "    </tr>\n",
       "  </thead>\n",
       "  <tbody>\n",
       "    <tr>\n",
       "      <th>0</th>\n",
       "      <td>10</td>\n",
       "      <td>Sujeet</td>\n",
       "    </tr>\n",
       "    <tr>\n",
       "      <th>1</th>\n",
       "      <td>11</td>\n",
       "      <td>Sameer</td>\n",
       "    </tr>\n",
       "    <tr>\n",
       "      <th>2</th>\n",
       "      <td>12</td>\n",
       "      <td>Sumit</td>\n",
       "    </tr>\n",
       "  </tbody>\n",
       "</table>\n",
       "</div>"
      ],
      "text/plain": [
       "   Age    Name\n",
       "0   10  Sujeet\n",
       "1   11  Sameer\n",
       "2   12   Sumit"
      ]
     },
     "execution_count": 19,
     "metadata": {},
     "output_type": "execute_result"
    }
   ],
   "source": [
    "df"
   ]
  },
  {
   "cell_type": "code",
   "execution_count": 20,
   "id": "southeast-honor",
   "metadata": {},
   "outputs": [
    {
     "data": {
      "text/html": [
       "<div>\n",
       "<style scoped>\n",
       "    .dataframe tbody tr th:only-of-type {\n",
       "        vertical-align: middle;\n",
       "    }\n",
       "\n",
       "    .dataframe tbody tr th {\n",
       "        vertical-align: top;\n",
       "    }\n",
       "\n",
       "    .dataframe thead th {\n",
       "        text-align: right;\n",
       "    }\n",
       "</style>\n",
       "<table border=\"1\" class=\"dataframe\">\n",
       "  <thead>\n",
       "    <tr style=\"text-align: right;\">\n",
       "      <th></th>\n",
       "      <th>0</th>\n",
       "      <th>1</th>\n",
       "      <th>2</th>\n",
       "    </tr>\n",
       "  </thead>\n",
       "  <tbody>\n",
       "    <tr>\n",
       "      <th>Age</th>\n",
       "      <td>10</td>\n",
       "      <td>11</td>\n",
       "      <td>12</td>\n",
       "    </tr>\n",
       "    <tr>\n",
       "      <th>Name</th>\n",
       "      <td>Sujeet</td>\n",
       "      <td>Sameer</td>\n",
       "      <td>Sumit</td>\n",
       "    </tr>\n",
       "  </tbody>\n",
       "</table>\n",
       "</div>"
      ],
      "text/plain": [
       "           0       1      2\n",
       "Age       10      11     12\n",
       "Name  Sujeet  Sameer  Sumit"
      ]
     },
     "execution_count": 20,
     "metadata": {},
     "output_type": "execute_result"
    }
   ],
   "source": [
    "df.T"
   ]
  },
  {
   "cell_type": "markdown",
   "id": "natural-letters",
   "metadata": {},
   "source": [
    "# Question 6"
   ]
  },
  {
   "cell_type": "code",
   "execution_count": 21,
   "id": "static-silence",
   "metadata": {},
   "outputs": [],
   "source": [
    "def fact(i):\n",
    "    i=i+10\n",
    "    return i\n",
    "\n",
    "\n",
    "\n",
    "def fact2(i):\n",
    "    i= i-10\n",
    "    \n",
    "    return i\n",
    "\n",
    "\n",
    "def fun(f1, f2, x):\n",
    "    y  =0\n",
    "    z=0\n",
    "    if x<1:\n",
    "       y =  f1(x)\n",
    "        \n",
    "    else:\n",
    "      z =  f2(x)\n",
    "      \n",
    "    print('z=', z, 'x=', x)\n",
    "    print('y=', y, 'x=', x)"
   ]
  },
  {
   "cell_type": "code",
   "execution_count": 22,
   "id": "valued-cleveland",
   "metadata": {},
   "outputs": [
    {
     "name": "stdout",
     "output_type": "stream",
     "text": [
      "z= -4 x= 6\n",
      "y= 0 x= 6\n",
      "z= 0 x= -1\n",
      "y= 9 x= -1\n"
     ]
    }
   ],
   "source": [
    "fun(fact, fact2, 6)\n",
    "fun(fact, fact2, -1)"
   ]
  },
  {
   "cell_type": "code",
   "execution_count": 23,
   "id": "seventh-hierarchy",
   "metadata": {},
   "outputs": [
    {
     "data": {
      "text/plain": [
       "12"
      ]
     },
     "execution_count": 23,
     "metadata": {},
     "output_type": "execute_result"
    }
   ],
   "source": [
    "fact(2)"
   ]
  },
  {
   "cell_type": "code",
   "execution_count": null,
   "id": "intelligent-edmonton",
   "metadata": {},
   "outputs": [],
   "source": []
  }
 ],
 "metadata": {
  "kernelspec": {
   "display_name": "Python 3",
   "language": "python",
   "name": "python3"
  },
  "language_info": {
   "codemirror_mode": {
    "name": "ipython",
    "version": 3
   },
   "file_extension": ".py",
   "mimetype": "text/x-python",
   "name": "python",
   "nbconvert_exporter": "python",
   "pygments_lexer": "ipython3",
   "version": "3.9.1"
  }
 },
 "nbformat": 4,
 "nbformat_minor": 5
}
